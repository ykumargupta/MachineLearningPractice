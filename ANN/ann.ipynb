{
 "cells": [
  {
   "cell_type": "code",
   "execution_count": 1,
   "metadata": {},
   "outputs": [],
   "source": [
    "import numpy as np\n",
    "import pandas as pd\n",
    "import matplotlib.pyplot as plt"
   ]
  },
  {
   "cell_type": "code",
   "execution_count": 2,
   "metadata": {},
   "outputs": [],
   "source": [
    "dataset = pd.read_csv('Churn_Modelling.csv')\n",
    "X = dataset.iloc[:, 3:13].values\n",
    "y= dataset.iloc[:,13].values"
   ]
  },
  {
   "cell_type": "code",
   "execution_count": 3,
   "metadata": {},
   "outputs": [],
   "source": [
    "from sklearn.preprocessing import LabelEncoder,OneHotEncoder"
   ]
  },
  {
   "cell_type": "code",
   "execution_count": 4,
   "metadata": {},
   "outputs": [
    {
     "data": {
      "text/plain": [
       "(10000, 10)"
      ]
     },
     "execution_count": 4,
     "metadata": {},
     "output_type": "execute_result"
    }
   ],
   "source": [
    "X.shape"
   ]
  },
  {
   "cell_type": "code",
   "execution_count": 5,
   "metadata": {},
   "outputs": [],
   "source": [
    "labelencoder_X_1 = LabelEncoder()\n",
    "#X[:, 1] = labelencoder_X_1.fit_transform(X[:,1])\n",
    "X[:, 1] = labelencoder_X_1.fit_transform(X[:, 1])\n"
   ]
  },
  {
   "cell_type": "code",
   "execution_count": 6,
   "metadata": {},
   "outputs": [
    {
     "name": "stderr",
     "output_type": "stream",
     "text": [
      "c:\\programdata\\anaconda3\\envs\\tensorflow\\lib\\site-packages\\sklearn\\preprocessing\\_encoders.py:368: FutureWarning: The handling of integer data will change in version 0.22. Currently, the categories are determined based on the range [0, max(values)], while in the future they will be determined based on the unique values.\n",
      "If you want the future behaviour and silence this warning, you can specify \"categories='auto'\".\n",
      "In case you used a LabelEncoder before this OneHotEncoder to convert the categories to integers, then you can now use the OneHotEncoder directly.\n",
      "  warnings.warn(msg, FutureWarning)\n",
      "c:\\programdata\\anaconda3\\envs\\tensorflow\\lib\\site-packages\\sklearn\\preprocessing\\_encoders.py:390: DeprecationWarning: The 'categorical_features' keyword is deprecated in version 0.20 and will be removed in 0.22. You can use the ColumnTransformer instead.\n",
      "  \"use the ColumnTransformer instead.\", DeprecationWarning)\n"
     ]
    }
   ],
   "source": [
    "labelencoder_X_2 = LabelEncoder()\n",
    "X[:,2] = labelencoder_X_2.fit_transform(X[:,2])\n",
    "onehotencoder = OneHotEncoder(categorical_features = [1])\n",
    "X = onehotencoder.fit_transform(X).toarray()"
   ]
  },
  {
   "cell_type": "code",
   "execution_count": 7,
   "metadata": {},
   "outputs": [
    {
     "data": {
      "text/plain": [
       "array([1.0000000e+00, 0.0000000e+00, 0.0000000e+00, 6.1900000e+02,\n",
       "       0.0000000e+00, 4.2000000e+01, 2.0000000e+00, 0.0000000e+00,\n",
       "       1.0000000e+00, 1.0000000e+00, 1.0000000e+00, 1.0134888e+05])"
      ]
     },
     "execution_count": 7,
     "metadata": {},
     "output_type": "execute_result"
    }
   ],
   "source": [
    "X[0]"
   ]
  },
  {
   "cell_type": "code",
   "execution_count": 8,
   "metadata": {},
   "outputs": [],
   "source": [
    "X = X[:, 1:] #remove the dummy variable trap"
   ]
  },
  {
   "cell_type": "code",
   "execution_count": 9,
   "metadata": {},
   "outputs": [],
   "source": [
    "from sklearn.model_selection import train_test_split\n",
    "X_train, X_test, y_train, y_test = train_test_split(X,y,test_size = 0.2 , random_state = 0)"
   ]
  },
  {
   "cell_type": "code",
   "execution_count": 10,
   "metadata": {},
   "outputs": [],
   "source": [
    "from sklearn.preprocessing import StandardScaler\n",
    "sc = StandardScaler()\n",
    "X_train = sc.fit_transform(X_train)\n",
    "X_test = sc.fit_transform(X_test)"
   ]
  },
  {
   "cell_type": "code",
   "execution_count": 11,
   "metadata": {},
   "outputs": [],
   "source": [
    "#ANN"
   ]
  },
  {
   "cell_type": "code",
   "execution_count": 12,
   "metadata": {},
   "outputs": [
    {
     "name": "stderr",
     "output_type": "stream",
     "text": [
      "Using TensorFlow backend.\n"
     ]
    }
   ],
   "source": [
    "from keras.models import Sequential\n",
    "from keras.layers import Dense"
   ]
  },
  {
   "cell_type": "code",
   "execution_count": 14,
   "metadata": {},
   "outputs": [],
   "source": [
    "classifier = Sequential()"
   ]
  },
  {
   "cell_type": "code",
   "execution_count": 15,
   "metadata": {},
   "outputs": [
    {
     "name": "stderr",
     "output_type": "stream",
     "text": [
      "c:\\programdata\\anaconda3\\envs\\tensorflow\\lib\\site-packages\\ipykernel_launcher.py:1: UserWarning: Update your `Dense` call to the Keras 2 API: `Dense(activation=\"relu\", input_dim=11, units=6, kernel_initializer=\"uniform\")`\n",
      "  \"\"\"Entry point for launching an IPython kernel.\n",
      "c:\\programdata\\anaconda3\\envs\\tensorflow\\lib\\site-packages\\ipykernel_launcher.py:2: UserWarning: Update your `Dense` call to the Keras 2 API: `Dense(activation=\"relu\", units=6, kernel_initializer=\"uniform\")`\n",
      "  \n",
      "c:\\programdata\\anaconda3\\envs\\tensorflow\\lib\\site-packages\\ipykernel_launcher.py:3: UserWarning: Update your `Dense` call to the Keras 2 API: `Dense(activation=\"sigmoid\", units=1, kernel_initializer=\"uniform\")`\n",
      "  This is separate from the ipykernel package so we can avoid doing imports until\n"
     ]
    }
   ],
   "source": [
    "classifier.add(Dense(output_dim = 6, init = 'uniform', activation = 'relu', input_dim = 11))\n",
    "classifier.add(Dense(output_dim = 6, init = 'uniform', activation = 'relu'))\n",
    "classifier.add(Dense(output_dim = 1, init = 'uniform', activation = 'sigmoid'))\n",
    "classifier.compile(optimizer = 'adam',metrics = ['accuracy'],loss = 'binary_crossentropy')\n",
    "\n"
   ]
  },
  {
   "cell_type": "code",
   "execution_count": 17,
   "metadata": {},
   "outputs": [
    {
     "name": "stderr",
     "output_type": "stream",
     "text": [
      "c:\\programdata\\anaconda3\\envs\\tensorflow\\lib\\site-packages\\ipykernel_launcher.py:1: UserWarning: The `nb_epoch` argument in `fit` has been renamed `epochs`.\n",
      "  \"\"\"Entry point for launching an IPython kernel.\n"
     ]
    },
    {
     "name": "stdout",
     "output_type": "stream",
     "text": [
      "Epoch 1/100\n",
      "8000/8000 [==============================] - 8s 991us/step - loss: 0.4823 - acc: 0.7960\n",
      "Epoch 2/100\n",
      "8000/8000 [==============================] - 3s 405us/step - loss: 0.4265 - acc: 0.7960\n",
      "Epoch 3/100\n",
      "8000/8000 [==============================] - 3s 404us/step - loss: 0.4211 - acc: 0.8057\n",
      "Epoch 4/100\n",
      "8000/8000 [==============================] - 3s 410us/step - loss: 0.4175 - acc: 0.8242\n",
      "Epoch 5/100\n",
      "8000/8000 [==============================] - 3s 410us/step - loss: 0.4158 - acc: 0.8282\n",
      "Epoch 6/100\n",
      "8000/8000 [==============================] - 3s 402us/step - loss: 0.4138 - acc: 0.8302\n",
      "Epoch 7/100\n",
      "8000/8000 [==============================] - 4s 459us/step - loss: 0.4127 - acc: 0.8319\n",
      "Epoch 8/100\n",
      "8000/8000 [==============================] - 3s 432us/step - loss: 0.4112 - acc: 0.8334\n",
      "Epoch 9/100\n",
      "8000/8000 [==============================] - 3s 411us/step - loss: 0.4106 - acc: 0.8335\n",
      "Epoch 10/100\n",
      "8000/8000 [==============================] - 3s 411us/step - loss: 0.4095 - acc: 0.8344\n",
      "Epoch 11/100\n",
      "8000/8000 [==============================] - 3s 425us/step - loss: 0.4091 - acc: 0.8347\n",
      "Epoch 12/100\n",
      "8000/8000 [==============================] - 4s 443us/step - loss: 0.4080 - acc: 0.8351\n",
      "Epoch 13/100\n",
      "8000/8000 [==============================] - 4s 453us/step - loss: 0.4076 - acc: 0.8344\n",
      "Epoch 14/100\n",
      "8000/8000 [==============================] - 3s 417us/step - loss: 0.4072 - acc: 0.8349\n",
      "Epoch 15/100\n",
      "8000/8000 [==============================] - 3s 419us/step - loss: 0.4061 - acc: 0.8341\n",
      "Epoch 16/100\n",
      "8000/8000 [==============================] - 3s 422us/step - loss: 0.4062 - acc: 0.8346\n",
      "Epoch 17/100\n",
      "8000/8000 [==============================] - 3s 433us/step - loss: 0.4057 - acc: 0.8340\n",
      "Epoch 18/100\n",
      "8000/8000 [==============================] - 3s 435us/step - loss: 0.4052 - acc: 0.8345\n",
      "Epoch 19/100\n",
      "8000/8000 [==============================] - 3s 432us/step - loss: 0.4051 - acc: 0.8349\n",
      "Epoch 20/100\n",
      "8000/8000 [==============================] - 3s 435us/step - loss: 0.4046 - acc: 0.8336\n",
      "Epoch 21/100\n",
      "8000/8000 [==============================] - 3s 432us/step - loss: 0.4043 - acc: 0.8339\n",
      "Epoch 22/100\n",
      "8000/8000 [==============================] - 4s 491us/step - loss: 0.4038 - acc: 0.8337\n",
      "Epoch 23/100\n",
      "8000/8000 [==============================] - 3s 436us/step - loss: 0.4036 - acc: 0.8342\n",
      "Epoch 24/100\n",
      "8000/8000 [==============================] - 3s 431us/step - loss: 0.4035 - acc: 0.8356\n",
      "Epoch 25/100\n",
      "8000/8000 [==============================] - 3s 433us/step - loss: 0.4028 - acc: 0.8359\n",
      "Epoch 26/100\n",
      "8000/8000 [==============================] - 3s 434us/step - loss: 0.4029 - acc: 0.8347\n",
      "Epoch 27/100\n",
      "8000/8000 [==============================] - 4s 438us/step - loss: 0.4031 - acc: 0.8344\n",
      "Epoch 28/100\n",
      "8000/8000 [==============================] - 4s 458us/step - loss: 0.4024 - acc: 0.8367\n",
      "Epoch 29/100\n",
      "8000/8000 [==============================] - 4s 479us/step - loss: 0.4025 - acc: 0.8337\n",
      "Epoch 30/100\n",
      "8000/8000 [==============================] - 4s 438us/step - loss: 0.4025 - acc: 0.8351\n",
      "Epoch 31/100\n",
      "8000/8000 [==============================] - 4s 446us/step - loss: 0.4021 - acc: 0.8345\n",
      "Epoch 32/100\n",
      "8000/8000 [==============================] - 3s 436us/step - loss: 0.4017 - acc: 0.8326\n",
      "Epoch 33/100\n",
      "8000/8000 [==============================] - 3s 431us/step - loss: 0.4023 - acc: 0.8337\n",
      "Epoch 34/100\n",
      "8000/8000 [==============================] - 3s 435us/step - loss: 0.4014 - acc: 0.8349\n",
      "Epoch 35/100\n",
      "8000/8000 [==============================] - 4s 451us/step - loss: 0.4015 - acc: 0.8355\n",
      "Epoch 36/100\n",
      "8000/8000 [==============================] - 3s 432us/step - loss: 0.4013 - acc: 0.8349\n",
      "Epoch 37/100\n",
      "8000/8000 [==============================] - 4s 441us/step - loss: 0.4016 - acc: 0.8346\n",
      "Epoch 38/100\n",
      "8000/8000 [==============================] - 4s 439us/step - loss: 0.4016 - acc: 0.8344\n",
      "Epoch 39/100\n",
      "8000/8000 [==============================] - 3s 435us/step - loss: 0.4011 - acc: 0.8360\n",
      "Epoch 40/100\n",
      "8000/8000 [==============================] - 4s 443us/step - loss: 0.4011 - acc: 0.8362\n",
      "Epoch 41/100\n",
      "8000/8000 [==============================] - 3s 437us/step - loss: 0.4007 - acc: 0.8377\n",
      "Epoch 42/100\n",
      "8000/8000 [==============================] - 3s 435us/step - loss: 0.4014 - acc: 0.8349\n",
      "Epoch 43/100\n",
      "8000/8000 [==============================] - 4s 438us/step - loss: 0.4011 - acc: 0.8341\n",
      "Epoch 44/100\n",
      "8000/8000 [==============================] - 4s 443us/step - loss: 0.4009 - acc: 0.8362\n",
      "Epoch 45/100\n",
      "8000/8000 [==============================] - 3s 435us/step - loss: 0.4010 - acc: 0.8357\n",
      "Epoch 46/100\n",
      "8000/8000 [==============================] - 4s 485us/step - loss: 0.4007 - acc: 0.8360\n",
      "Epoch 47/100\n",
      "8000/8000 [==============================] - 4s 439us/step - loss: 0.4011 - acc: 0.8356\n",
      "Epoch 48/100\n",
      "8000/8000 [==============================] - 4s 442us/step - loss: 0.4005 - acc: 0.8355\n",
      "Epoch 49/100\n",
      "8000/8000 [==============================] - 4s 444us/step - loss: 0.4011 - acc: 0.8362\n",
      "Epoch 50/100\n",
      "8000/8000 [==============================] - 4s 438us/step - loss: 0.4006 - acc: 0.8351\n",
      "Epoch 51/100\n",
      "8000/8000 [==============================] - 4s 444us/step - loss: 0.4007 - acc: 0.8346\n",
      "Epoch 52/100\n",
      "8000/8000 [==============================] - 3s 433us/step - loss: 0.4004 - acc: 0.8344\n",
      "Epoch 53/100\n",
      "8000/8000 [==============================] - 3s 430us/step - loss: 0.4006 - acc: 0.8340\n",
      "Epoch 54/100\n",
      "8000/8000 [==============================] - 3s 434us/step - loss: 0.4002 - acc: 0.8366\n",
      "Epoch 55/100\n",
      "8000/8000 [==============================] - 3s 433us/step - loss: 0.4003 - acc: 0.8349\n",
      "Epoch 56/100\n",
      "8000/8000 [==============================] - 3s 432us/step - loss: 0.4000 - acc: 0.8346\n",
      "Epoch 57/100\n",
      "8000/8000 [==============================] - 4s 450us/step - loss: 0.4002 - acc: 0.8354\n",
      "Epoch 58/100\n",
      "8000/8000 [==============================] - 4s 443us/step - loss: 0.4008 - acc: 0.8357\n",
      "Epoch 59/100\n",
      "8000/8000 [==============================] - 4s 445us/step - loss: 0.4002 - acc: 0.8379\n",
      "Epoch 60/100\n",
      "8000/8000 [==============================] - 4s 444us/step - loss: 0.4006 - acc: 0.8356\n",
      "Epoch 61/100\n",
      "8000/8000 [==============================] - 3s 437us/step - loss: 0.4004 - acc: 0.8361\n",
      "Epoch 62/100\n",
      "8000/8000 [==============================] - 4s 456us/step - loss: 0.4006 - acc: 0.8354\n",
      "Epoch 63/100\n",
      "8000/8000 [==============================] - 4s 486us/step - loss: 0.4000 - acc: 0.8345\n",
      "Epoch 64/100\n",
      "8000/8000 [==============================] - 4s 454us/step - loss: 0.4006 - acc: 0.8361\n",
      "Epoch 65/100\n",
      "8000/8000 [==============================] - 4s 449us/step - loss: 0.4004 - acc: 0.8356\n",
      "Epoch 66/100\n",
      "8000/8000 [==============================] - 4s 459us/step - loss: 0.4003 - acc: 0.8347\n",
      "Epoch 67/100\n",
      "8000/8000 [==============================] - 4s 452us/step - loss: 0.4001 - acc: 0.8361\n",
      "Epoch 68/100\n",
      "8000/8000 [==============================] - 4s 445us/step - loss: 0.4004 - acc: 0.8356\n",
      "Epoch 69/100\n",
      "8000/8000 [==============================] - 4s 445us/step - loss: 0.4003 - acc: 0.8350\n",
      "Epoch 70/100\n",
      "8000/8000 [==============================] - 4s 441us/step - loss: 0.4004 - acc: 0.8355\n",
      "Epoch 71/100\n",
      "8000/8000 [==============================] - 4s 451us/step - loss: 0.4000 - acc: 0.8360\n",
      "Epoch 72/100\n",
      "8000/8000 [==============================] - 4s 446us/step - loss: 0.3998 - acc: 0.8356\n",
      "Epoch 73/100\n",
      "8000/8000 [==============================] - 4s 474us/step - loss: 0.3998 - acc: 0.8365\n",
      "Epoch 74/100\n",
      "8000/8000 [==============================] - 4s 450us/step - loss: 0.3999 - acc: 0.8355\n",
      "Epoch 75/100\n",
      "8000/8000 [==============================] - 4s 445us/step - loss: 0.4002 - acc: 0.8346\n",
      "Epoch 76/100\n",
      "8000/8000 [==============================] - 4s 445us/step - loss: 0.4001 - acc: 0.8350\n",
      "Epoch 77/100\n",
      "8000/8000 [==============================] - 4s 455us/step - loss: 0.4000 - acc: 0.8349\n",
      "Epoch 78/100\n",
      "8000/8000 [==============================] - 4s 448us/step - loss: 0.3994 - acc: 0.8359\n",
      "Epoch 79/100\n",
      "8000/8000 [==============================] - 4s 479us/step - loss: 0.4001 - acc: 0.8349\n",
      "Epoch 80/100\n",
      "8000/8000 [==============================] - 4s 446us/step - loss: 0.4003 - acc: 0.8350\n",
      "Epoch 81/100\n",
      "8000/8000 [==============================] - 3s 436us/step - loss: 0.3997 - acc: 0.8362\n",
      "Epoch 82/100\n"
     ]
    },
    {
     "name": "stdout",
     "output_type": "stream",
     "text": [
      "8000/8000 [==============================] - 3s 404us/step - loss: 0.3996 - acc: 0.8345\n",
      "Epoch 83/100\n",
      "8000/8000 [==============================] - 3s 435us/step - loss: 0.3999 - acc: 0.8345\n",
      "Epoch 84/100\n",
      "8000/8000 [==============================] - 4s 457us/step - loss: 0.3995 - acc: 0.8340\n",
      "Epoch 85/100\n",
      "8000/8000 [==============================] - 4s 469us/step - loss: 0.3996 - acc: 0.8359\n",
      "Epoch 86/100\n",
      "8000/8000 [==============================] - 5s 571us/step - loss: 0.3996 - acc: 0.8360\n",
      "Epoch 87/100\n",
      "8000/8000 [==============================] - 5s 600us/step - loss: 0.4001 - acc: 0.8360\n",
      "Epoch 88/100\n",
      "8000/8000 [==============================] - 5s 606us/step - loss: 0.4001 - acc: 0.8370\n",
      "Epoch 89/100\n",
      "8000/8000 [==============================] - 4s 507us/step - loss: 0.3995 - acc: 0.8352\n",
      "Epoch 90/100\n",
      "8000/8000 [==============================] - 4s 448us/step - loss: 0.4000 - acc: 0.8359\n",
      "Epoch 91/100\n",
      "8000/8000 [==============================] - 4s 448us/step - loss: 0.3998 - acc: 0.8359\n",
      "Epoch 92/100\n",
      "8000/8000 [==============================] - 4s 494us/step - loss: 0.4001 - acc: 0.8362\n",
      "Epoch 93/100\n",
      "8000/8000 [==============================] - 4s 545us/step - loss: 0.4001 - acc: 0.8346\n",
      "Epoch 94/100\n",
      "8000/8000 [==============================] - 4s 512us/step - loss: 0.4001 - acc: 0.8347\n",
      "Epoch 95/100\n",
      "8000/8000 [==============================] - 4s 507us/step - loss: 0.3996 - acc: 0.8365\n",
      "Epoch 96/100\n",
      "8000/8000 [==============================] - 4s 438us/step - loss: 0.3999 - acc: 0.8359\n",
      "Epoch 97/100\n",
      "8000/8000 [==============================] - 4s 499us/step - loss: 0.3993 - acc: 0.8361\n",
      "Epoch 98/100\n",
      "8000/8000 [==============================] - 4s 439us/step - loss: 0.4002 - acc: 0.8356\n",
      "Epoch 99/100\n",
      "8000/8000 [==============================] - 4s 441us/step - loss: 0.3999 - acc: 0.8345\n",
      "Epoch 100/100\n",
      "8000/8000 [==============================] - 4s 456us/step - loss: 0.3999 - acc: 0.8356\n"
     ]
    },
    {
     "data": {
      "text/plain": [
       "<keras.callbacks.History at 0x1604cecf630>"
      ]
     },
     "execution_count": 17,
     "metadata": {},
     "output_type": "execute_result"
    }
   ],
   "source": [
    "classifier.fit(X_train,y_train,batch_size = 10, nb_epoch = 100)"
   ]
  },
  {
   "cell_type": "code",
   "execution_count": 18,
   "metadata": {},
   "outputs": [],
   "source": [
    "\n",
    "# Predicting the Test set results\n",
    "y_pred = classifier.predict(X_test)\n",
    "y_pred = (y_pred > 0.5)\n",
    "\n",
    "# Making the Confusion Matrix\n",
    "from sklearn.metrics import confusion_matrix\n",
    "cm = confusion_matrix(y_test, y_pred)"
   ]
  },
  {
   "cell_type": "code",
   "execution_count": 19,
   "metadata": {},
   "outputs": [
    {
     "data": {
      "text/plain": [
       "array([[1542,   53],\n",
       "       [ 265,  140]], dtype=int64)"
      ]
     },
     "execution_count": 19,
     "metadata": {},
     "output_type": "execute_result"
    }
   ],
   "source": [
    "cm"
   ]
  },
  {
   "cell_type": "code",
   "execution_count": 21,
   "metadata": {},
   "outputs": [
    {
     "name": "stdout",
     "output_type": "stream",
     "text": [
      "0.841\n"
     ]
    }
   ],
   "source": [
    "print ((1542+140)/2000) #accuracy is 84%"
   ]
  },
  {
   "cell_type": "code",
   "execution_count": null,
   "metadata": {},
   "outputs": [],
   "source": []
  }
 ],
 "metadata": {
  "kernelspec": {
   "display_name": "Python 3",
   "language": "python",
   "name": "python3"
  },
  "language_info": {
   "codemirror_mode": {
    "name": "ipython",
    "version": 3
   },
   "file_extension": ".py",
   "mimetype": "text/x-python",
   "name": "python",
   "nbconvert_exporter": "python",
   "pygments_lexer": "ipython3",
   "version": "3.6.6"
  }
 },
 "nbformat": 4,
 "nbformat_minor": 2
}
